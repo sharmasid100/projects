{
 "cells": [
  {
   "cell_type": "code",
   "execution_count": 41,
   "id": "d9aa9034-5801-49f8-b768-c85f332b0bf3",
   "metadata": {},
   "outputs": [],
   "source": [
    "import numpy as np\n",
    "import pandas as pd"
   ]
  },
  {
   "cell_type": "code",
   "execution_count": 3,
   "id": "d1f69343-1cda-43c2-b101-ddfa78e44d5a",
   "metadata": {},
   "outputs": [],
   "source": [
    "data = pd.read_csv(r'train.csv')"
   ]
  },
  {
   "cell_type": "code",
   "execution_count": 4,
   "id": "bfaff3bc-9818-4d00-9a16-861667169e45",
   "metadata": {},
   "outputs": [
    {
     "data": {
      "text/html": [
       "<div>\n",
       "<style scoped>\n",
       "    .dataframe tbody tr th:only-of-type {\n",
       "        vertical-align: middle;\n",
       "    }\n",
       "\n",
       "    .dataframe tbody tr th {\n",
       "        vertical-align: top;\n",
       "    }\n",
       "\n",
       "    .dataframe thead th {\n",
       "        text-align: right;\n",
       "    }\n",
       "</style>\n",
       "<table border=\"1\" class=\"dataframe\">\n",
       "  <thead>\n",
       "    <tr style=\"text-align: right;\">\n",
       "      <th></th>\n",
       "      <th>label</th>\n",
       "      <th>pixel0</th>\n",
       "      <th>pixel1</th>\n",
       "      <th>pixel2</th>\n",
       "      <th>pixel3</th>\n",
       "      <th>pixel4</th>\n",
       "      <th>pixel5</th>\n",
       "      <th>pixel6</th>\n",
       "      <th>pixel7</th>\n",
       "      <th>pixel8</th>\n",
       "      <th>...</th>\n",
       "      <th>pixel774</th>\n",
       "      <th>pixel775</th>\n",
       "      <th>pixel776</th>\n",
       "      <th>pixel777</th>\n",
       "      <th>pixel778</th>\n",
       "      <th>pixel779</th>\n",
       "      <th>pixel780</th>\n",
       "      <th>pixel781</th>\n",
       "      <th>pixel782</th>\n",
       "      <th>pixel783</th>\n",
       "    </tr>\n",
       "  </thead>\n",
       "  <tbody>\n",
       "    <tr>\n",
       "      <th>0</th>\n",
       "      <td>1</td>\n",
       "      <td>0</td>\n",
       "      <td>0</td>\n",
       "      <td>0</td>\n",
       "      <td>0</td>\n",
       "      <td>0</td>\n",
       "      <td>0</td>\n",
       "      <td>0</td>\n",
       "      <td>0</td>\n",
       "      <td>0</td>\n",
       "      <td>...</td>\n",
       "      <td>0</td>\n",
       "      <td>0</td>\n",
       "      <td>0</td>\n",
       "      <td>0</td>\n",
       "      <td>0</td>\n",
       "      <td>0</td>\n",
       "      <td>0</td>\n",
       "      <td>0</td>\n",
       "      <td>0</td>\n",
       "      <td>0</td>\n",
       "    </tr>\n",
       "    <tr>\n",
       "      <th>1</th>\n",
       "      <td>0</td>\n",
       "      <td>0</td>\n",
       "      <td>0</td>\n",
       "      <td>0</td>\n",
       "      <td>0</td>\n",
       "      <td>0</td>\n",
       "      <td>0</td>\n",
       "      <td>0</td>\n",
       "      <td>0</td>\n",
       "      <td>0</td>\n",
       "      <td>...</td>\n",
       "      <td>0</td>\n",
       "      <td>0</td>\n",
       "      <td>0</td>\n",
       "      <td>0</td>\n",
       "      <td>0</td>\n",
       "      <td>0</td>\n",
       "      <td>0</td>\n",
       "      <td>0</td>\n",
       "      <td>0</td>\n",
       "      <td>0</td>\n",
       "    </tr>\n",
       "    <tr>\n",
       "      <th>2</th>\n",
       "      <td>1</td>\n",
       "      <td>0</td>\n",
       "      <td>0</td>\n",
       "      <td>0</td>\n",
       "      <td>0</td>\n",
       "      <td>0</td>\n",
       "      <td>0</td>\n",
       "      <td>0</td>\n",
       "      <td>0</td>\n",
       "      <td>0</td>\n",
       "      <td>...</td>\n",
       "      <td>0</td>\n",
       "      <td>0</td>\n",
       "      <td>0</td>\n",
       "      <td>0</td>\n",
       "      <td>0</td>\n",
       "      <td>0</td>\n",
       "      <td>0</td>\n",
       "      <td>0</td>\n",
       "      <td>0</td>\n",
       "      <td>0</td>\n",
       "    </tr>\n",
       "    <tr>\n",
       "      <th>3</th>\n",
       "      <td>4</td>\n",
       "      <td>0</td>\n",
       "      <td>0</td>\n",
       "      <td>0</td>\n",
       "      <td>0</td>\n",
       "      <td>0</td>\n",
       "      <td>0</td>\n",
       "      <td>0</td>\n",
       "      <td>0</td>\n",
       "      <td>0</td>\n",
       "      <td>...</td>\n",
       "      <td>0</td>\n",
       "      <td>0</td>\n",
       "      <td>0</td>\n",
       "      <td>0</td>\n",
       "      <td>0</td>\n",
       "      <td>0</td>\n",
       "      <td>0</td>\n",
       "      <td>0</td>\n",
       "      <td>0</td>\n",
       "      <td>0</td>\n",
       "    </tr>\n",
       "    <tr>\n",
       "      <th>4</th>\n",
       "      <td>0</td>\n",
       "      <td>0</td>\n",
       "      <td>0</td>\n",
       "      <td>0</td>\n",
       "      <td>0</td>\n",
       "      <td>0</td>\n",
       "      <td>0</td>\n",
       "      <td>0</td>\n",
       "      <td>0</td>\n",
       "      <td>0</td>\n",
       "      <td>...</td>\n",
       "      <td>0</td>\n",
       "      <td>0</td>\n",
       "      <td>0</td>\n",
       "      <td>0</td>\n",
       "      <td>0</td>\n",
       "      <td>0</td>\n",
       "      <td>0</td>\n",
       "      <td>0</td>\n",
       "      <td>0</td>\n",
       "      <td>0</td>\n",
       "    </tr>\n",
       "  </tbody>\n",
       "</table>\n",
       "<p>5 rows × 785 columns</p>\n",
       "</div>"
      ],
      "text/plain": [
       "   label  pixel0  pixel1  pixel2  pixel3  pixel4  pixel5  pixel6  pixel7  \\\n",
       "0      1       0       0       0       0       0       0       0       0   \n",
       "1      0       0       0       0       0       0       0       0       0   \n",
       "2      1       0       0       0       0       0       0       0       0   \n",
       "3      4       0       0       0       0       0       0       0       0   \n",
       "4      0       0       0       0       0       0       0       0       0   \n",
       "\n",
       "   pixel8  ...  pixel774  pixel775  pixel776  pixel777  pixel778  pixel779  \\\n",
       "0       0  ...         0         0         0         0         0         0   \n",
       "1       0  ...         0         0         0         0         0         0   \n",
       "2       0  ...         0         0         0         0         0         0   \n",
       "3       0  ...         0         0         0         0         0         0   \n",
       "4       0  ...         0         0         0         0         0         0   \n",
       "\n",
       "   pixel780  pixel781  pixel782  pixel783  \n",
       "0         0         0         0         0  \n",
       "1         0         0         0         0  \n",
       "2         0         0         0         0  \n",
       "3         0         0         0         0  \n",
       "4         0         0         0         0  \n",
       "\n",
       "[5 rows x 785 columns]"
      ]
     },
     "execution_count": 4,
     "metadata": {},
     "output_type": "execute_result"
    }
   ],
   "source": [
    "data.head()"
   ]
  },
  {
   "cell_type": "code",
   "execution_count": 43,
   "id": "94a65969-dc4a-4ddb-9a64-60541e4477b0",
   "metadata": {},
   "outputs": [],
   "source": [
    "data = np.array(data)\n",
    "m, n = data.shape\n",
    "np.random.shuffle(data)"
   ]
  },
  {
   "cell_type": "code",
   "execution_count": 45,
   "id": "e19d4f66-8abc-4bb2-9123-ce3b7aaa4679",
   "metadata": {},
   "outputs": [
    {
     "data": {
      "text/plain": [
       "(42000, 785)"
      ]
     },
     "execution_count": 45,
     "metadata": {},
     "output_type": "execute_result"
    }
   ],
   "source": [
    "data.shape"
   ]
  },
  {
   "cell_type": "code",
   "execution_count": 47,
   "id": "eee172b0-e081-4722-9bc2-ca3e15f60502",
   "metadata": {},
   "outputs": [],
   "source": [
    "data_dev = data[0:1000].T\n",
    "Y_dev = data_dev[0]\n",
    "X_dev = data_dev[1:n]\n",
    "X_dev = X_dev / 255.\n",
    "\n",
    "data_train = data[1000:m].T\n",
    "Y_train = data_train[0]\n",
    "X_train = data_train[1:n]\n",
    "X_train = X_train / 255.\n",
    "_,m_train = X_train.shape\n",
    "\n"
   ]
  },
  {
   "cell_type": "code",
   "execution_count": 49,
   "id": "474f0d1b-be00-44e0-9882-2df78e3e4c0f",
   "metadata": {},
   "outputs": [
    {
     "data": {
      "text/plain": [
       "array([[0., 0., 0., ..., 0., 0., 0.],\n",
       "       [0., 0., 0., ..., 0., 0., 0.],\n",
       "       [0., 0., 0., ..., 0., 0., 0.],\n",
       "       ...,\n",
       "       [0., 0., 0., ..., 0., 0., 0.],\n",
       "       [0., 0., 0., ..., 0., 0., 0.],\n",
       "       [0., 0., 0., ..., 0., 0., 0.]])"
      ]
     },
     "execution_count": 49,
     "metadata": {},
     "output_type": "execute_result"
    }
   ],
   "source": [
    "Y_train\n",
    "X_train"
   ]
  },
  {
   "cell_type": "code",
   "execution_count": 51,
   "id": "37caa2a9-bd6a-4217-94d0-47fc5e856117",
   "metadata": {},
   "outputs": [],
   "source": [
    "#initialize weights and biases for neurons as random values from -0.5 to 0.5\n",
    "def init_params():\n",
    "    W1 = np.random.rand(10, 784) - 0.5  #hidden layer with 10 neurons\n",
    "    b1 = np.random.rand(10, 1) - 0.5\n",
    "    W2 = np.random.rand(10, 10) - 0.5   #output layer with 10 neuros\n",
    "    b2 = np.random.rand(10, 1) - 0.5\n",
    "    return W1, b1, W2, b2"
   ]
  },
  {
   "cell_type": "code",
   "execution_count": 53,
   "id": "ed1b0e92-a065-4ffc-addb-2052cfe337e4",
   "metadata": {},
   "outputs": [],
   "source": [
    "#activation functions\n",
    "\n",
    "def ReLU(Z):\n",
    "    return np.maximum(0,Z)\n",
    "\n",
    "def ReLU_deriv(Z):\n",
    "    return Z > 0\n",
    "    \n",
    "def softmax(Z):\n",
    "    try: \n",
    "        A = np.exp(Z) / sum(np.exp(Z))\n",
    "        return A\n",
    "    except:\n",
    "        return 1"
   ]
  },
  {
   "cell_type": "code",
   "execution_count": 55,
   "id": "00d4128e-b7e5-4326-a3b1-fe312a3a4b6b",
   "metadata": {},
   "outputs": [],
   "source": [
    "def forward_prop(W1, b1, W2, b2, X):\n",
    "    Z1 = W1.dot(X) + b1\n",
    "    A1 = ReLU(Z1)\n",
    "    Z2 = W2.dot(A1) + b2\n",
    "    A2 = softmax(Z2)\n",
    "    return Z1, A1, Z2, A2"
   ]
  },
  {
   "cell_type": "code",
   "execution_count": 57,
   "id": "fafc4f7b-70f7-4fdb-8578-f0d0b51d929f",
   "metadata": {},
   "outputs": [],
   "source": [
    "def one_hot(Y):\n",
    "    one_hot_Y = np.zeros((Y.size, Y.max() + 1))\n",
    "    one_hot_Y[np.arange(Y.size), Y] = 1\n",
    "    one_hot_Y = one_hot_Y.T\n",
    "    return one_hot_Y"
   ]
  },
  {
   "cell_type": "code",
   "execution_count": 59,
   "id": "ac01ab5e-1ad1-48e1-9f0d-d1f82ed49ce9",
   "metadata": {},
   "outputs": [],
   "source": [
    "def backward_prop(Z1, A1, Z2, A2, W1, W2, X, Y):\n",
    "    one_hot_Y = one_hot(Y)\n",
    "    dZ2 = A2 - one_hot_Y\n",
    "    dW2 = 1 / m * dZ2.dot(A1.T)\n",
    "    db2 = 1 / m * np.sum(dZ2)\n",
    "    dZ1 = W2.T.dot(dZ2) * ReLU_deriv(Z1)\n",
    "    dW1 = 1 / m * dZ1.dot(X.T)\n",
    "    db1 = 1 / m * np.sum(dZ1)\n",
    "    return dW1, db1, dW2, db2"
   ]
  },
  {
   "cell_type": "code",
   "execution_count": 61,
   "id": "86c1d456-700a-4d59-bad1-6e39fd3ed0ee",
   "metadata": {},
   "outputs": [],
   "source": [
    "\n",
    "\n",
    "def update_params(W1, b1, W2, b2, dW1, db1, dW2, db2, alpha):\n",
    "    W1 = W1 - alpha * dW1\n",
    "    b1 = b1 - alpha * db1    \n",
    "    W2 = W2 - alpha * dW2  \n",
    "    b2 = b2 - alpha * db2    \n",
    "    return W1, b1, W2, b2"
   ]
  },
  {
   "cell_type": "code",
   "execution_count": 63,
   "id": "445dd09e-e613-423f-b25a-169da7921cdd",
   "metadata": {},
   "outputs": [],
   "source": [
    "def get_predictions(A2):\n",
    "    return np.argmax(A2, 0)\n",
    "\n",
    "def get_accuracy(predictions, Y):\n",
    "    print(predictions, Y)\n",
    "    return np.sum(predictions == Y) / Y.size\n",
    "\n",
    "def gradient_descent(X, Y, alpha, iterations):\n",
    "    W1, b1, W2, b2 = init_params()\n",
    "    for i in range(iterations):\n",
    "        Z1, A1, Z2, A2 = forward_prop(W1, b1, W2, b2, X)\n",
    "        dW1, db1, dW2, db2 = backward_prop(Z1, A1, Z2, A2, W1, W2, X, Y)\n",
    "        W1, b1, W2, b2 = update_params(W1, b1, W2, b2, dW1, db1, dW2, db2, alpha)\n",
    "        if i % 10 == 0:\n",
    "            print(\"Iteration: \", i)\n",
    "            predictions = get_predictions(A2)\n",
    "            print(get_accuracy(predictions, Y))\n",
    "    return W1, b1, W2, b2"
   ]
  },
  {
   "cell_type": "code",
   "execution_count": 65,
   "id": "4a278e69-29fc-4c2a-8a9c-a7cdd247641a",
   "metadata": {
    "scrolled": true
   },
   "outputs": [
    {
     "name": "stdout",
     "output_type": "stream",
     "text": [
      "Iteration:  0\n",
      "[0 5 7 ... 7 9 7] [1 2 1 ... 6 4 1]\n",
      "0.08131707317073171\n",
      "Iteration:  10\n",
      "[9 5 7 ... 7 9 7] [1 2 1 ... 6 4 1]\n",
      "0.07639024390243902\n",
      "Iteration:  20\n",
      "[9 5 7 ... 7 9 7] [1 2 1 ... 6 4 1]\n",
      "0.07639024390243902\n",
      "Iteration:  30\n",
      "[9 5 7 ... 0 9 3] [1 2 1 ... 6 4 1]\n",
      "0.07717073170731707\n",
      "Iteration:  40\n",
      "[9 5 7 ... 0 9 3] [1 2 1 ... 6 4 1]\n",
      "0.07921951219512195\n",
      "Iteration:  50\n",
      "[9 5 0 ... 0 9 3] [1 2 1 ... 6 4 1]\n",
      "0.08153658536585366\n",
      "Iteration:  60\n",
      "[9 5 0 ... 0 9 3] [1 2 1 ... 6 4 1]\n",
      "0.08470731707317074\n",
      "Iteration:  70\n",
      "[9 5 0 ... 0 9 3] [1 2 1 ... 6 4 1]\n",
      "0.08751219512195121\n",
      "Iteration:  80\n",
      "[9 5 0 ... 0 9 3] [1 2 1 ... 6 4 1]\n",
      "0.09112195121951219\n",
      "Iteration:  90\n",
      "[9 5 0 ... 0 9 3] [1 2 1 ... 6 4 1]\n",
      "0.09517073170731707\n",
      "Iteration:  100\n",
      "[9 0 0 ... 0 9 3] [1 2 1 ... 6 4 1]\n",
      "0.09897560975609757\n",
      "Iteration:  110\n",
      "[9 0 0 ... 0 9 3] [1 2 1 ... 6 4 1]\n",
      "0.10253658536585365\n",
      "Iteration:  120\n",
      "[9 0 0 ... 0 9 3] [1 2 1 ... 6 4 1]\n",
      "0.1065609756097561\n",
      "Iteration:  130\n",
      "[9 0 0 ... 0 9 3] [1 2 1 ... 6 4 1]\n",
      "0.11041463414634146\n",
      "Iteration:  140\n",
      "[9 0 0 ... 0 9 3] [1 2 1 ... 6 4 1]\n",
      "0.11446341463414635\n",
      "Iteration:  150\n",
      "[9 0 0 ... 0 4 8] [1 2 1 ... 6 4 1]\n",
      "0.1187560975609756\n",
      "Iteration:  160\n",
      "[9 0 0 ... 0 4 8] [1 2 1 ... 6 4 1]\n",
      "0.12265853658536585\n",
      "Iteration:  170\n",
      "[9 0 0 ... 0 4 8] [1 2 1 ... 6 4 1]\n",
      "0.12634146341463415\n",
      "Iteration:  180\n",
      "[9 0 0 ... 0 4 8] [1 2 1 ... 6 4 1]\n",
      "0.12982926829268293\n",
      "Iteration:  190\n",
      "[6 0 0 ... 0 4 8] [1 2 1 ... 6 4 1]\n",
      "0.134\n",
      "Iteration:  200\n",
      "[6 0 0 ... 0 4 8] [1 2 1 ... 6 4 1]\n",
      "0.138\n",
      "Iteration:  210\n",
      "[6 0 0 ... 0 4 8] [1 2 1 ... 6 4 1]\n",
      "0.14134146341463413\n",
      "Iteration:  220\n",
      "[6 0 0 ... 0 4 8] [1 2 1 ... 6 4 1]\n",
      "0.1461951219512195\n",
      "Iteration:  230\n",
      "[6 0 0 ... 0 4 8] [1 2 1 ... 6 4 1]\n",
      "0.1501951219512195\n",
      "Iteration:  240\n",
      "[6 0 0 ... 0 4 8] [1 2 1 ... 6 4 1]\n",
      "0.15336585365853658\n",
      "Iteration:  250\n",
      "[6 0 0 ... 0 4 8] [1 2 1 ... 6 4 1]\n",
      "0.15648780487804878\n",
      "Iteration:  260\n",
      "[6 0 0 ... 0 4 8] [1 2 1 ... 6 4 1]\n",
      "0.1602439024390244\n",
      "Iteration:  270\n",
      "[6 0 0 ... 4 4 9] [1 2 1 ... 6 4 1]\n",
      "0.16360975609756098\n",
      "Iteration:  280\n",
      "[6 9 0 ... 4 4 9] [1 2 1 ... 6 4 1]\n",
      "0.16646341463414635\n",
      "Iteration:  290\n",
      "[6 9 0 ... 4 4 9] [1 2 1 ... 6 4 1]\n",
      "0.1693658536585366\n",
      "Iteration:  300\n",
      "[6 9 0 ... 4 4 9] [1 2 1 ... 6 4 1]\n",
      "0.17224390243902438\n",
      "Iteration:  310\n",
      "[6 9 0 ... 4 4 9] [1 2 1 ... 6 4 1]\n",
      "0.17456097560975609\n",
      "Iteration:  320\n",
      "[6 9 0 ... 4 4 9] [1 2 1 ... 6 4 1]\n",
      "0.17721951219512194\n",
      "Iteration:  330\n",
      "[6 9 0 ... 4 4 9] [1 2 1 ... 6 4 1]\n",
      "0.17992682926829268\n",
      "Iteration:  340\n",
      "[6 9 0 ... 4 4 9] [1 2 1 ... 6 4 1]\n",
      "0.182\n",
      "Iteration:  350\n",
      "[6 9 0 ... 4 4 9] [1 2 1 ... 6 4 1]\n",
      "0.18451219512195122\n",
      "Iteration:  360\n",
      "[6 9 0 ... 4 4 0] [1 2 1 ... 6 4 1]\n",
      "0.18670731707317073\n",
      "Iteration:  370\n",
      "[6 9 0 ... 4 4 0] [1 2 1 ... 6 4 1]\n",
      "0.1888780487804878\n",
      "Iteration:  380\n",
      "[6 9 0 ... 4 4 0] [1 2 1 ... 6 4 1]\n",
      "0.19060975609756098\n",
      "Iteration:  390\n",
      "[6 9 0 ... 4 4 0] [1 2 1 ... 6 4 1]\n",
      "0.1922439024390244\n",
      "Iteration:  400\n",
      "[6 9 0 ... 4 4 0] [1 2 1 ... 6 4 1]\n",
      "0.1943658536585366\n",
      "Iteration:  410\n",
      "[6 9 0 ... 4 4 0] [1 2 1 ... 6 4 1]\n",
      "0.19631707317073172\n",
      "Iteration:  420\n",
      "[6 9 0 ... 4 4 0] [1 2 1 ... 6 4 1]\n",
      "0.19831707317073172\n",
      "Iteration:  430\n",
      "[6 9 0 ... 4 4 0] [1 2 1 ... 6 4 1]\n",
      "0.2003658536585366\n",
      "Iteration:  440\n",
      "[6 9 0 ... 4 4 0] [1 2 1 ... 6 4 1]\n",
      "0.20187804878048782\n",
      "Iteration:  450\n",
      "[6 9 0 ... 4 4 0] [1 2 1 ... 6 4 1]\n",
      "0.2038780487804878\n",
      "Iteration:  460\n",
      "[6 9 0 ... 4 4 0] [1 2 1 ... 6 4 1]\n",
      "0.20558536585365852\n",
      "Iteration:  470\n",
      "[6 9 0 ... 4 4 0] [1 2 1 ... 6 4 1]\n",
      "0.20704878048780487\n",
      "Iteration:  480\n",
      "[6 9 0 ... 4 4 0] [1 2 1 ... 6 4 1]\n",
      "0.2090731707317073\n",
      "Iteration:  490\n",
      "[6 9 0 ... 4 4 0] [1 2 1 ... 6 4 1]\n",
      "0.2106341463414634\n"
     ]
    }
   ],
   "source": [
    "W1, b1, W2, b2 = gradient_descent(X_train, Y_train, 0.0050, 500)"
   ]
  },
  {
   "cell_type": "code",
   "execution_count": 67,
   "id": "334fecd3-c098-4573-8459-53704fde55a8",
   "metadata": {},
   "outputs": [],
   "source": [
    "import matplotlib.pyplot as plt\n",
    "def make_predictions(X, W1, b1, W2, b2):\n",
    "    _, _, _, A2 = forward_prop(W1, b1, W2, b2, X)\n",
    "    predictions = get_predictions(A2)\n",
    "    return predictions\n",
    "\n",
    "def test_prediction(index, W1, b1, W2, b2):\n",
    "    current_image = X_train[:, index, None]\n",
    "    prediction = make_predictions(X_train[:, index, None], W1, b1, W2, b2)\n",
    "    label = Y_train[index]\n",
    "    print(\"Prediction: \", prediction)\n",
    "    print(\"Label: \", label)\n",
    "    \n",
    "    current_image = current_image.reshape((28, 28)) * 255\n",
    "    plt.gray()\n",
    "    plt.imshow(current_image, interpolation='nearest')\n",
    "    plt.show()"
   ]
  },
  {
   "cell_type": "code",
   "execution_count": 69,
   "id": "eb01bbc2-d66c-4992-b1c6-e4db709c9cfc",
   "metadata": {},
   "outputs": [
    {
     "name": "stdout",
     "output_type": "stream",
     "text": [
      "Prediction:  [6]\n",
      "Label:  1\n"
     ]
    },
    {
     "data": {
      "image/png": "[encoded data removed]",
      "text/plain": [
       "<Figure size 640x480 with 1 Axes>"
      ]
     },
     "metadata": {},
     "output_type": "display_data"
    },
    {
     "name": "stdout",
     "output_type": "stream",
     "text": [
      "Prediction:  [9]\n",
      "Label:  2\n"
     ]
    },
    {
     "data": {
      "image/png": "[encoded data removed]",
      "text/plain": [
       "<Figure size 640x480 with 1 Axes>"
      ]
     },
     "metadata": {},
     "output_type": "display_data"
    },
    {
     "name": "stdout",
     "output_type": "stream",
     "text": [
      "Prediction:  [0]\n",
      "Label:  1\n"
     ]
    },
    {
     "data": {
      "image/png": "[encoded data removed]",
      "text/plain": [
       "<Figure size 640x480 with 1 Axes>"
      ]
     },
     "metadata": {},
     "output_type": "display_data"
    },
    {
     "name": "stdout",
     "output_type": "stream",
     "text": [
      "Prediction:  [7]\n",
      "Label:  0\n"
     ]
    },
    {
     "data": {
      "image/png": "[encoded data removed]",
      "text/plain": [
       "<Figure size 640x480 with 1 Axes>"
      ]
     },
     "metadata": {},
     "output_type": "display_data"
    }
   ],
   "source": [
    "test_prediction(0, W1, b1, W2, b2)\n",
    "test_prediction(1, W1, b1, W2, b2)\n",
    "test_prediction(2, W1, b1, W2, b2)\n",
    "test_prediction(3, W1, b1, W2, b2)"
   ]
  },
  {
   "cell_type": "code",
   "execution_count": 71,
   "id": "8869ff62-4bd0-45b4-8f53-0d261bbb6261",
   "metadata": {},
   "outputs": [
    {
     "name": "stdout",
     "output_type": "stream",
     "text": [
      "[0 7 8 0 6 0 4 0 9 9 0 6 0 0 0 0 0 7 7 6 4 0 0 0 7 6 7 0 6 7 6 0 0 0 9 4 0\n",
      " 9 6 0 7 6 6 0 0 4 9 7 9 0 0 9 4 0 0 9 0 0 0 0 9 6 0 0 9 5 6 6 9 0 9 4 6 0\n",
      " 9 6 0 0 0 9 6 0 0 0 0 6 0 0 0 6 6 4 1 0 6 0 6 0 4 0 6 4 6 9 0 4 9 0 9 0 4\n",
      " 1 9 0 4 9 0 0 0 9 0 4 2 0 6 9 0 0 6 7 7 0 7 6 0 0 9 9 0 9 0 0 6 9 7 9 0 0\n",
      " 0 9 7 9 6 6 9 7 0 9 0 0 0 0 6 0 4 4 9 1 9 0 0 0 7 6 6 0 6 6 9 4 0 7 9 9 6\n",
      " 7 0 1 4 0 9 0 3 0 0 7 6 4 6 6 9 0 0 9 8 9 5 0 1 6 0 0 7 0 4 9 8 0 9 0 0 9\n",
      " 4 6 6 7 4 0 6 9 9 0 0 9 7 0 6 5 0 0 0 6 9 7 0 9 0 1 0 6 1 6 5 6 0 0 4 6 9\n",
      " 1 9 0 7 7 9 6 0 0 0 7 5 4 4 9 4 0 0 0 0 0 0 0 6 6 9 0 0 9 0 4 6 0 9 4 5 0\n",
      " 6 0 0 0 9 5 0 5 6 6 0 0 9 6 0 9 4 6 0 6 4 0 6 6 7 4 0 0 6 4 5 0 0 0 4 4 0\n",
      " 6 0 6 0 0 4 4 6 0 6 0 5 4 9 7 0 7 0 6 9 0 6 6 4 8 0 9 9 0 4 0 6 1 6 8 6 0\n",
      " 0 0 7 9 0 6 0 0 0 0 7 6 7 0 4 0 9 7 4 4 0 6 7 0 4 0 6 6 0 4 5 0 6 9 0 0 7\n",
      " 6 6 9 0 6 9 0 0 9 0 0 7 0 7 0 6 6 0 9 0 0 6 8 9 3 0 4 0 0 0 0 0 0 4 3 4 6\n",
      " 6 0 9 6 7 6 9 4 6 0 4 6 0 6 4 6 9 0 8 0 4 0 6 6 6 6 0 0 9 0 7 0 0 9 4 5 7\n",
      " 1 4 0 6 5 6 0 0 9 9 0 9 6 6 4 1 0 0 6 6 0 0 0 6 0 0 6 1 5 7 6 4 0 9 6 0 7\n",
      " 6 4 9 9 0 0 7 8 9 0 2 0 6 6 6 3 0 4 6 9 0 0 0 6 4 6 0 0 4 8 9 7 0 0 0 4 4\n",
      " 8 0 0 0 8 6 9 9 6 0 0 9 9 0 1 0 0 5 0 0 7 0 0 0 0 0 0 6 0 8 9 6 0 9 6 0 0\n",
      " 5 9 9 3 0 7 9 0 6 0 6 5 6 6 0 6 5 6 6 5 7 1 4 4 9 0 0 0 0 0 0 6 0 9 4 4 0\n",
      " 1 0 0 9 4 9 0 3 9 6 0 7 9 0 6 9 9 9 4 7 0 3 0 0 4 0 9 6 6 6 9 9 0 9 0 9 6\n",
      " 9 4 6 7 6 0 9 9 0 9 0 1 6 0 0 0 4 6 9 9 6 4 8 0 9 9 6 8 9 6 4 4 0 0 0 4 4\n",
      " 0 6 0 9 4 0 0 0 6 0 0 0 9 0 0 0 0 0 0 9 2 6 1 5 9 4 0 0 0 8 9 9 6 9 9 9 1\n",
      " 7 9 0 5 4 4 9 7 9 9 7 9 6 7 6 9 0 0 6 0 0 6 5 7 4 0 0 0 0 0 4 6 4 9 9 0 0\n",
      " 9 9 7 4 0 9 0 0 6 6 9 9 4 0 6 0 7 0 7 0 8 0 0 0 0 0 2 6 0 0 0 9 0 0 0 2 0\n",
      " 6 9 0 0 0 0 0 0 9 0 9 9 0 3 0 0 0 6 4 3 7 6 0 6 7 4 6 6 5 6 4 7 0 1 9 6 0\n",
      " 7 0 4 9 6 6 4 9 4 0 6 0 7 0 0 0 7 6 5 7 5 9 0 0 9 6 0 2 0 0 9 0 9 0 5 6 0\n",
      " 0 9 0 0 6 0 0 6 0 4 9 6 0 7 0 9 0 0 0 6 0 4 3 4 7 0 0 0 0 6 0 9 0 6 3 9 9\n",
      " 4 0 0 0 6 6 6 0 4 6 0 6 6 0 4 5 6 0 0 6 0 6 0 6 6 6 6 4 9 7 4 0 5 0 0 7 6\n",
      " 6 0 7 6 6 7 7 0 6 0 6 7 6 0 7 9 9 0 7 9 6 0 0 8 6 6 0 9 8 0 6 7 6 6 0 0 7\n",
      " 0] [0 4 1 9 6 1 4 2 7 8 5 5 3 1 7 0 2 7 5 1 3 3 0 7 7 1 7 2 6 0 3 9 3 3 0 4 8\n",
      " 8 6 9 0 5 6 1 8 4 1 5 2 3 6 9 5 8 7 5 0 1 3 0 9 6 7 8 9 9 6 1 3 8 2 1 6 9\n",
      " 0 6 1 9 5 9 6 0 3 8 7 2 9 1 8 6 4 4 3 3 8 2 8 9 7 9 6 4 2 8 1 6 6 9 9 7 9\n",
      " 7 7 4 4 2 0 7 7 9 7 1 2 8 3 2 1 8 4 2 5 9 0 1 2 0 5 8 8 6 9 0 9 3 1 2 9 7\n",
      " 3 3 7 8 5 2 9 0 2 6 9 8 2 9 4 5 4 4 7 5 1 8 0 8 6 2 1 2 1 5 3 4 9 2 8 2 3\n",
      " 9 9 1 4 2 1 1 5 5 0 7 6 4 4 4 5 9 1 8 1 1 2 8 2 5 9 9 7 1 2 8 1 7 8 3 7 4\n",
      " 1 4 6 0 5 0 3 9 6 4 7 1 0 0 2 2 1 3 3 5 8 9 5 3 7 3 5 1 3 3 0 3 7 7 4 6 8\n",
      " 5 9 8 0 0 9 5 8 1 5 0 2 4 4 6 3 7 3 0 2 8 9 3 8 4 3 3 5 9 7 4 6 8 9 4 6 8\n",
      " 2 7 0 9 2 0 9 3 1 2 3 5 7 6 5 1 6 1 4 2 4 2 6 4 1 4 0 3 5 4 7 2 8 7 9 6 5\n",
      " 6 8 4 8 2 4 4 8 1 2 2 8 4 2 7 1 9 5 5 5 8 0 6 6 1 1 9 3 7 2 2 2 3 0 1 6 4\n",
      " 8 8 0 3 7 6 7 8 7 8 0 3 2 7 5 5 8 9 4 6 8 4 2 8 2 1 8 6 0 4 0 1 1 7 9 9 4\n",
      " 8 6 3 8 6 3 7 0 7 1 1 7 1 0 5 6 4 2 4 9 7 6 1 7 1 2 4 1 2 3 7 2 2 2 1 4 6\n",
      " 6 2 7 6 0 2 4 2 4 0 5 6 7 6 4 2 2 1 1 5 4 7 6 5 3 2 8 1 9 1 0 7 7 5 5 6 7\n",
      " 5 0 0 8 3 0 9 5 8 3 9 3 2 3 4 3 3 3 6 5 1 9 0 4 2 7 6 8 7 5 6 4 2 7 6 6 9\n",
      " 8 5 9 4 1 5 2 1 0 7 8 3 1 2 4 1 3 4 1 9 9 9 3 6 4 5 0 3 4 1 9 5 0 3 5 4 4\n",
      " 1 8 1 0 1 4 2 6 8 9 7 6 9 7 3 1 1 2 9 0 4 0 3 7 7 9 8 6 2 6 8 6 3 0 6 5 0\n",
      " 2 5 5 1 2 7 1 0 2 2 5 4 4 4 8 5 5 1 4 5 0 3 9 4 9 0 7 8 8 8 5 3 3 9 9 4 8\n",
      " 7 2 4 0 6 9 7 1 2 6 9 5 0 7 6 9 0 5 2 3 3 1 8 0 3 9 1 2 0 4 5 6 1 2 7 9 7\n",
      " 3 4 5 2 5 7 9 0 5 9 3 6 6 5 9 8 2 6 5 2 6 6 7 8 9 9 6 1 9 4 5 4 0 0 3 4 4\n",
      " 5 4 1 0 5 9 1 7 3 5 0 7 0 0 9 7 1 8 2 4 6 4 9 6 5 4 0 9 0 7 9 7 6 9 8 6 2\n",
      " 5 9 2 8 4 4 0 9 5 4 5 1 6 0 6 9 1 9 4 9 8 6 2 0 4 7 1 8 7 8 4 9 1 8 5 0 7\n",
      " 3 7 2 6 3 1 0 7 6 4 5 1 4 7 6 0 0 9 2 0 1 7 3 3 8 3 9 0 5 0 3 9 7 7 0 8 3\n",
      " 2 9 0 2 1 7 0 2 6 7 1 1 0 1 3 7 2 9 4 1 0 3 9 8 5 4 2 0 3 8 6 0 7 5 1 5 5\n",
      " 7 1 2 5 6 2 6 0 6 9 6 4 7 2 3 8 0 3 0 7 3 3 9 1 7 0 5 7 3 7 9 8 7 5 2 1 2\n",
      " 0 3 7 7 1 3 0 6 2 6 1 9 3 0 3 9 1 3 7 6 1 1 3 1 5 2 5 7 4 6 0 9 8 3 1 1 4\n",
      " 6 2 0 3 5 6 6 1 4 2 2 5 6 8 2 6 8 1 2 9 2 4 7 6 6 4 4 6 9 0 4 7 7 7 0 9 6\n",
      " 7 1 5 1 5 3 9 9 6 8 2 0 6 1 7 3 7 1 1 2 1 3 2 7 6 3 7 3 5 5 9 1 0 9 7 2 7\n",
      " 3]\n"
     ]
    },
    {
     "data": {
      "text/plain": [
       "0.225"
      ]
     },
     "execution_count": 71,
     "metadata": {},
     "output_type": "execute_result"
    }
   ],
   "source": [
    "dev_predictions = make_predictions(X_dev, W1, b1, W2, b2)\n",
    "get_accuracy(dev_predictions, Y_dev)"
   ]
  },
  {
   "cell_type": "code",
   "execution_count": null,
   "id": "5556f05f-513c-44c6-b6b4-7356311ca680",
   "metadata": {},
   "outputs": [],
   "source": []
  }
 ],
 "metadata": {
  "kernelspec": {
   "display_name": "Python [conda env:base] *",
   "language": "python",
   "name": "conda-base-py"
  },
  "language_info": {
   "codemirror_mode": {
    "name": "ipython",
    "version": 3
   },
   "file_extension": ".py",
   "mimetype": "text/x-python",
   "name": "python",
   "nbconvert_exporter": "python",
   "pygments_lexer": "ipython3",
   "version": "3.12.7"
  }
 },
 "nbformat": 4,
 "nbformat_minor": 5
}
